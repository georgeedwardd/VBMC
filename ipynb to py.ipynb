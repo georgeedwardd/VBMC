{
 "cells": [
  {
   "cell_type": "code",
   "execution_count": 1,
   "id": "38d8e006-d20e-4b6c-870d-03564fc6f2b6",
   "metadata": {},
   "outputs": [],
   "source": [
    "import nbformat\n",
    "from nbconvert import PythonExporter\n",
    "\n",
    "# Load the notebook\n",
    "with open(\"VBMC.ipynb\", \"r\", encoding=\"utf-8\") as f:\n",
    "    nb = nbformat.read(f, as_version=4)\n",
    "\n",
    "# Convert to .py script\n",
    "py_exporter = PythonExporter()\n",
    "py_code, _ = py_exporter.from_notebook_node(nb)\n",
    "\n",
    "# Save the output\n",
    "with open(\"VBMC.py\", \"w\", encoding=\"utf-8\") as f:\n",
    "    f.write(py_code)\n"
   ]
  }
 ],
 "metadata": {
  "kernelspec": {
   "display_name": "Python pgmpy",
   "language": "python",
   "name": "pgmpy_env"
  },
  "language_info": {
   "codemirror_mode": {
    "name": "ipython",
    "version": 3
   },
   "file_extension": ".py",
   "mimetype": "text/x-python",
   "name": "python",
   "nbconvert_exporter": "python",
   "pygments_lexer": "ipython3",
   "version": "3.9.21"
  }
 },
 "nbformat": 4,
 "nbformat_minor": 5
}
